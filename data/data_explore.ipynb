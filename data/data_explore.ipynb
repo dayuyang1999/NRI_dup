{
 "cells": [
  {
   "cell_type": "markdown",
   "metadata": {
    "collapsed": true,
    "pycharm": {
     "name": "#%% md\n"
    }
   },
   "source": [
    "# Explore data\n",
    "\n",
    "data contains 3 classes of data:\n",
    "    + edges (graph)\n",
    "    + loc\n",
    "    + vel"
   ]
  },
  {
   "cell_type": "code",
   "execution_count": 1,
   "outputs": [],
   "source": [
    "import numpy as np\n",
    "\n",
    "suffix = \"_springs5\"\n",
    "\n",
    "loc_train = np.load('loc_train' + suffix + '.npy')\n",
    "vel_train = np.load('vel_train' + suffix + '.npy')\n",
    "edges_train = np.load('edges_train' + suffix + '.npy')"
   ],
   "metadata": {
    "collapsed": false,
    "pycharm": {
     "name": "#%%\n"
    }
   }
  },
  {
   "cell_type": "code",
   "execution_count": 2,
   "outputs": [
    {
     "data": {
      "text/plain": "array([[[0., 0., 0., 0., 1.],\n        [0., 0., 1., 0., 0.],\n        [0., 1., 0., 1., 0.],\n        [0., 0., 1., 0., 0.],\n        [1., 0., 0., 0., 0.]],\n\n       [[0., 1., 0., 0., 1.],\n        [1., 0., 1., 1., 1.],\n        [0., 1., 0., 1., 0.],\n        [0., 1., 1., 0., 1.],\n        [1., 1., 0., 1., 0.]],\n\n       [[0., 0., 1., 1., 1.],\n        [0., 0., 1., 0., 1.],\n        [1., 1., 0., 1., 0.],\n        [1., 0., 1., 0., 0.],\n        [1., 1., 0., 0., 0.]],\n\n       ...,\n\n       [[0., 0., 1., 0., 1.],\n        [0., 0., 1., 1., 0.],\n        [1., 1., 0., 0., 0.],\n        [0., 1., 0., 0., 1.],\n        [1., 0., 0., 1., 0.]],\n\n       [[0., 0., 1., 0., 0.],\n        [0., 0., 1., 1., 0.],\n        [1., 1., 0., 0., 0.],\n        [0., 1., 0., 0., 0.],\n        [0., 0., 0., 0., 0.]],\n\n       [[0., 0., 0., 0., 1.],\n        [0., 0., 1., 1., 0.],\n        [0., 1., 0., 0., 0.],\n        [0., 1., 0., 0., 0.],\n        [1., 0., 0., 0., 0.]]])"
     },
     "execution_count": 2,
     "metadata": {},
     "output_type": "execute_result"
    }
   ],
   "source": [
    "### 2: ball move in 2-d space; simluation returns a 2-d coordinates\n",
    "\n",
    "loc_train # `(n_sim, time steps, 2, n_balls)`\n",
    "vel_train # `(n_sim, time steps, 2, n_balls)`\n",
    "edges_train # `(n_sim, n_balls, n_balls)`\n"
   ],
   "metadata": {
    "collapsed": false,
    "pycharm": {
     "name": "#%%\n"
    }
   }
  },
  {
   "cell_type": "markdown",
   "source": [
    "a simulation -> a ball connection status over all time prioed\n",
    "\n",
    "![img](https://github.com/ethanfetaya/NRI/blob/master/nri.png)\n"
   ],
   "metadata": {
    "collapsed": false,
    "pycharm": {
     "name": "#%% md\n"
    }
   }
  },
  {
   "cell_type": "code",
   "execution_count": null,
   "outputs": [],
   "source": [],
   "metadata": {
    "collapsed": false,
    "pycharm": {
     "name": "#%%\n"
    }
   }
  }
 ],
 "metadata": {
  "kernelspec": {
   "display_name": "Python 3",
   "language": "python",
   "name": "python3"
  },
  "language_info": {
   "codemirror_mode": {
    "name": "ipython",
    "version": 2
   },
   "file_extension": ".py",
   "mimetype": "text/x-python",
   "name": "python",
   "nbconvert_exporter": "python",
   "pygments_lexer": "ipython2",
   "version": "2.7.6"
  }
 },
 "nbformat": 4,
 "nbformat_minor": 0
}