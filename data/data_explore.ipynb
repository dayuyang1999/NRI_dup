{
 "cells": [
  {
   "cell_type": "markdown",
   "metadata": {
    "collapsed": true,
    "pycharm": {
     "name": "#%% md\n"
    }
   },
   "source": [
    "# Explore data\n",
    "\n",
    "data contains 3 classes of data:\n",
    "    + edges (graph)\n",
    "    + loc\n",
    "    + vel"
   ]
  },
  {
   "cell_type": "code",
   "execution_count": 86,
   "outputs": [],
   "source": [
    "import numpy as np\n",
    "\n",
    "suffix = \"_springs5\"\n",
    "\n",
    "loc_train = np.load('loc_train' + suffix + '.npy')\n",
    "vel_train = np.load('vel_train' + suffix + '.npy')\n",
    "edges_train = np.load('edges_train' + suffix + '.npy')"
   ],
   "metadata": {
    "collapsed": false,
    "pycharm": {
     "name": "#%%\n"
    }
   }
  },
  {
   "cell_type": "code",
   "execution_count": 87,
   "outputs": [
    {
     "output_type": "execute_result",
     "data": {
      "text/plain": [
       "array([[[0., 0., 0., 0., 1.],\n",
       "        [0., 0., 1., 0., 0.],\n",
       "        [0., 1., 0., 1., 0.],\n",
       "        [0., 0., 1., 0., 0.],\n",
       "        [1., 0., 0., 0., 0.]],\n",
       "\n",
       "       [[0., 1., 0., 0., 1.],\n",
       "        [1., 0., 1., 1., 1.],\n",
       "        [0., 1., 0., 1., 0.],\n",
       "        [0., 1., 1., 0., 1.],\n",
       "        [1., 1., 0., 1., 0.]],\n",
       "\n",
       "       [[0., 0., 1., 1., 1.],\n",
       "        [0., 0., 1., 0., 1.],\n",
       "        [1., 1., 0., 1., 0.],\n",
       "        [1., 0., 1., 0., 0.],\n",
       "        [1., 1., 0., 0., 0.]],\n",
       "\n",
       "       ...,\n",
       "\n",
       "       [[0., 0., 1., 0., 1.],\n",
       "        [0., 0., 1., 1., 0.],\n",
       "        [1., 1., 0., 0., 0.],\n",
       "        [0., 1., 0., 0., 1.],\n",
       "        [1., 0., 0., 1., 0.]],\n",
       "\n",
       "       [[0., 0., 1., 0., 0.],\n",
       "        [0., 0., 1., 1., 0.],\n",
       "        [1., 1., 0., 0., 0.],\n",
       "        [0., 1., 0., 0., 0.],\n",
       "        [0., 0., 0., 0., 0.]],\n",
       "\n",
       "       [[0., 0., 0., 0., 1.],\n",
       "        [0., 0., 1., 1., 0.],\n",
       "        [0., 1., 0., 0., 0.],\n",
       "        [0., 1., 0., 0., 0.],\n",
       "        [1., 0., 0., 0., 0.]]])"
      ]
     },
     "metadata": {},
     "execution_count": 87
    }
   ],
   "source": [
    "### 2: ball move in 2-d space; simluation returns a 2-d coordinates\n",
    "\n",
    "loc_train # `(n_sim, time steps, 2, n_balls)`\n",
    "vel_train # `(n_sim, time steps, 2, n_balls)`\n",
    "\n",
    "edges_train # `(n_sim, n_balls, n_balls)`\n"
   ],
   "metadata": {
    "collapsed": false,
    "pycharm": {
     "name": "#%%\n"
    }
   }
  },
  {
   "cell_type": "markdown",
   "source": [
    "a simulation -> a ball connection status over all time prioed\n",
    "\n",
    "![img](https://github.com/ethanfetaya/NRI/blob/master/nri.png)\n"
   ],
   "metadata": {
    "collapsed": false,
    "pycharm": {
     "name": "#%% md\n"
    }
   }
  },
  {
   "source": [
    "# process edges"
   ],
   "cell_type": "markdown",
   "metadata": {}
  },
  {
   "cell_type": "code",
   "execution_count": 88,
   "outputs": [
    {
     "output_type": "stream",
     "name": "stdout",
     "text": [
      "(500, 5, 5)\n[[0. 0. 0. 0. 1.]\n [0. 0. 1. 0. 0.]\n [0. 1. 0. 1. 0.]\n [0. 0. 1. 0. 0.]\n [1. 0. 0. 0. 0.]]\n"
     ]
    }
   ],
   "source": [
    "print(edges_train.shape)\n",
    "print(edges_train[0,:])\n",
    "num_atoms = edges_train.shape[1]\n",
    "edges_train_ori_true = edges_train"
   ],
   "metadata": {
    "collapsed": false,
    "pycharm": {
     "name": "#%%\n"
    }
   }
  },
  {
   "cell_type": "code",
   "execution_count": 89,
   "metadata": {},
   "outputs": [
    {
     "output_type": "stream",
     "name": "stdout",
     "text": [
      "(500, 25)\n"
     ]
    }
   ],
   "source": [
    "## reshape, all element flatten\n",
    "edges_train = np.reshape(edges_train, [-1, num_atoms ** 2])\n",
    "print(edges_train.shape)"
   ]
  },
  {
   "cell_type": "code",
   "execution_count": 90,
   "metadata": {},
   "outputs": [],
   "source": [
    "edges_train = np.array((edges_train + 1) / 2, dtype=np.int64)\n",
    "\n",
    "\n"
   ]
  },
  {
   "source": [
    "off_diag_idx = np.ravel_multi_index(\n",
    "    np.where(np.ones((num_atoms, num_atoms)) - np.eye(num_atoms)),\n",
    "    [num_atoms, num_atoms])"
   ],
   "cell_type": "code",
   "metadata": {},
   "execution_count": 91,
   "outputs": []
  },
  {
   "cell_type": "code",
   "execution_count": 92,
   "metadata": {},
   "outputs": [],
   "source": [
    "edges_train = edges_train[:, off_diag_idx]"
   ]
  },
  {
   "cell_type": "code",
   "execution_count": 93,
   "metadata": {},
   "outputs": [
    {
     "output_type": "stream",
     "name": "stdout",
     "text": [
      "(500, 20)\n"
     ]
    }
   ],
   "source": [
    "print(edges_train.shape)"
   ]
  },
  {
   "cell_type": "code",
   "execution_count": null,
   "metadata": {},
   "outputs": [],
   "source": []
  },
  {
   "cell_type": "code",
   "execution_count": 97,
   "metadata": {},
   "outputs": [],
   "source": [
    "def add_diag(edges_train_single):\n",
    "    '''\n",
    "    edges_train_single: (20, ) nparray\n",
    "    '''\n",
    "    diag_idx = np.ravel_multi_index(np.where( np.eye(num_atoms)),[num_atoms, num_atoms])\n",
    "    \n",
    "    added = np.insert(edges_train_single, diag_idx - range(0, diag_idx.shape[0]), 0, axis=0).reshape(num_atoms,num_atoms)\n",
    "\n",
    "    return added"
   ]
  },
  {
   "cell_type": "code",
   "execution_count": 99,
   "metadata": {},
   "outputs": [],
   "source": [
    "edges_ori_reconst = np.apply_along_axis(add_diag, 1, edges_train)"
   ]
  },
  {
   "cell_type": "code",
   "execution_count": 100,
   "metadata": {},
   "outputs": [
    {
     "output_type": "stream",
     "name": "stdout",
     "text": [
      "(500, 5, 5)\n"
     ]
    }
   ],
   "source": [
    "\n",
    "print(edges_ori_reconst.shape)"
   ]
  },
  {
   "cell_type": "code",
   "execution_count": null,
   "metadata": {},
   "outputs": [],
   "source": []
  }
 ],
 "metadata": {
  "kernelspec": {
   "display_name": "Python 3",
   "language": "python",
   "name": "python3"
  },
  "language_info": {
   "codemirror_mode": {
    "name": "ipython",
    "version": 2
   },
   "file_extension": ".py",
   "mimetype": "text/x-python",
   "name": "python",
   "nbconvert_exporter": "python",
   "pygments_lexer": "ipython2",
   "version": "3.8.3-final"
  }
 },
 "nbformat": 4,
 "nbformat_minor": 0
}